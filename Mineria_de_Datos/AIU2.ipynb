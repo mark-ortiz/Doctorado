{
 "cells": [
  {
   "cell_type": "markdown",
   "metadata": {},
   "source": [
    "# ACTIVIDAD INTEGRADORA UNIDAD 2\n",
    "## Unidad 2: Procesamiento de Datos\n",
    "\n",
    "**Programa:** Doctorado en Sistemas Computacionales<br>\n",
    "**Alumno:** Marco Antonio Ortiz Meneses, Matrícula: A0137382049<BR>\n",
    "**Profesor:** Dr. Jorge Rafael Gutiérrez Pulido<BR>\n",
    "**Fecha:** 24 de Abril de 2021"
   ]
  },
  {
   "cell_type": "markdown",
   "metadata": {},
   "source": [
    "### Problema 1"
   ]
  },
  {
   "cell_type": "markdown",
   "metadata": {},
   "source": [
    "**1. Media y Mediana de los datos**"
   ]
  },
  {
   "cell_type": "code",
   "execution_count": 1,
   "metadata": {},
   "outputs": [
    {
     "name": "stdout",
     "output_type": "stream",
     "text": [
      "La media es: 29.96\n",
      "La mediana es: 25.00\n"
     ]
    }
   ],
   "source": [
    "#Calculo de la media (mean) y de la mediana (median)\n",
    "import numpy as np #Importamos la librería numpy\n",
    "\n",
    "#Definimos el vector de acuerdo a los datos otorgados\n",
    "age = [13, 15, 16, 16, 19, 20, 20, 21, 22, 22, 25, 25, 25, 25, 30, 33, 33, 35, 35, 35, 35, 36, 40, 45, 46, 52, 70]\n",
    "\n",
    "#Imprimimos lo solicitado utilizando funciones de la librería numpy\n",
    "media = np.mean(age); mediana = np.median(age)\n",
    "print(\"La media es: %.2f\" %media) # Con solo dos decimales de precisión\n",
    "print(\"La mediana es: %.2f\" %mediana)"
   ]
  },
  {
   "cell_type": "markdown",
   "metadata": {},
   "source": [
    "**2. Moda y modalidad**"
   ]
  },
  {
   "cell_type": "code",
   "execution_count": 2,
   "metadata": {},
   "outputs": [
    {
     "name": "stdout",
     "output_type": "stream",
     "text": [
      "El valor de la moda es: 25 \n",
      "El numero de veces que aparece el valor de la moda en el arreglo es: 4\n"
     ]
    }
   ],
   "source": [
    "from scipy import stats\n",
    "\n",
    "moda = stats.mode(age)[0]\n",
    "\n",
    "print(\"El valor de la moda es: %i \" % moda)#stats.mode(age)[0]) #Dado que solo son enteros se usa %i\n",
    "\n",
    "print(\"El numero de veces que aparece el valor de la moda en el arreglo es: %i\" %age.count(moda))"
   ]
  },
  {
   "cell_type": "code",
   "execution_count": 3,
   "metadata": {},
   "outputs": [
    {
     "name": "stdout",
     "output_type": "stream",
     "text": [
      "Veces que aparecen los elementos en el arreglo: \n",
      " [1, 1, 2, 2, 1, 2, 2, 1, 2, 2, 4, 4, 4, 4, 1, 2, 2, 4, 4, 4, 4, 1, 1, 1, 1, 1, 1]\n",
      "Como se puede observar tenemos dos elementos que aparecen 4 veces\n",
      "\n",
      "Es decir, el valor 35 también aparece 4 veces por lo que se puede decir que el conjunto de datos es bimodal\n"
     ]
    }
   ],
   "source": [
    "#Revisando cuantos veces aparece cada elmento del arreglo (lista en Python en este caso)\n",
    "#Cuenta numero de veces que aparece un elemento\n",
    "lista = []\n",
    "for i in age:\n",
    "    lista.append(age.count(i))   \n",
    "print(\"Veces que aparecen los elementos en el arreglo: \\n\", lista)\n",
    "#sorted(lista) # Con esto podemos ordenarlo si lo deseamos\n",
    "print(\"Como se puede observar tenemos dos elementos que aparecen 4 veces\\n\")\n",
    "print(\"Es decir, el valor 35 también aparece 4 veces por lo que se puede decir que el conjunto de datos es bimodal\")"
   ]
  },
  {
   "cell_type": "markdown",
   "metadata": {},
   "source": [
    "**3. \"Midrange\" de los datos**"
   ]
  },
  {
   "cell_type": "code",
   "execution_count": 4,
   "metadata": {},
   "outputs": [
    {
     "name": "stdout",
     "output_type": "stream",
     "text": [
      "El valor -midrange- es:  41.5\n"
     ]
    }
   ],
   "source": [
    "#Calculando el \"midrange\" que es el promedio del valor más alto y el más bajo\n",
    "max = np.max(age)\n",
    "min = np.min(age)\n",
    "midrange = (max+min)/2\n",
    "print(\"El valor -midrange- es: \", midrange)"
   ]
  },
  {
   "cell_type": "markdown",
   "metadata": {},
   "source": [
    "**4. Primer quartil q1 y tercer cuartil q3**"
   ]
  },
  {
   "cell_type": "code",
   "execution_count": 5,
   "metadata": {},
   "outputs": [
    {
     "name": "stdout",
     "output_type": "stream",
     "text": [
      "El valor del 1er cuartil es: 20.5\n",
      "El valor del 3er cuartil es: 35.0\n"
     ]
    }
   ],
   "source": [
    "#Utilizamos funciones de numpy para encontrar estos valores solicitados\n",
    "q1 = np.percentile(age,25)\n",
    "q3 = np.percentile(age,75)\n",
    "print(\"El valor del 1er cuartil es:\", q1)\n",
    "print(\"El valor del 3er cuartil es:\", q3)"
   ]
  },
  {
   "cell_type": "markdown",
   "metadata": {},
   "source": [
    "**5. Resumen de los primeros 5 valores numéricos acerca de los datos**"
   ]
  },
  {
   "cell_type": "code",
   "execution_count": 6,
   "metadata": {},
   "outputs": [
    {
     "name": "stdout",
     "output_type": "stream",
     "text": [
      "Los valores son:\n",
      "\n",
      "1. Media:     29.96\n",
      "2. Mediana:   25\n",
      "3. Moda:      25\n",
      "4. Cuartil 1: 20.50\n",
      "5. Cuartil 3: 35.00\n"
     ]
    }
   ],
   "source": [
    "#Impresión de los 5 valores numéricos calculados previamente\n",
    "print(\"Los valores son:\\n\")\n",
    "print(\"1. Media:     %.2f\" %media)\n",
    "print(\"2. Mediana:   %i\" %mediana)\n",
    "print(\"3. Moda:      %i\" %moda[0])\n",
    "print(\"4. Cuartil 1: %.2f\" %q1)\n",
    "print(\"5. Cuartil 3: %.2f\" %q3)"
   ]
  },
  {
   "cell_type": "markdown",
   "metadata": {},
   "source": [
    "**6. Mostrar una gráfica boxplot de los datos**"
   ]
  },
  {
   "cell_type": "code",
   "execution_count": 7,
   "metadata": {},
   "outputs": [
    {
     "data": {
      "image/png": "[encoded data removed]",
      "text/plain": [
       "<Figure size 864x288 with 1 Axes>"
      ]
     },
     "metadata": {
      "needs_background": "light"
     },
     "output_type": "display_data"
    }
   ],
   "source": [
    "import matplotlib.pyplot as plt\n",
    "\n",
    "fig = plt.figure(figsize =(12,4))\n",
    "# Generamos el boxplot\n",
    "labels=['Array de Datos']\n",
    "plt.boxplot(age,notch=True, vert=False, patch_artist=True, labels=labels)\n",
    "plt.grid(True)\n",
    "plt.xlabel(\"Edad (Age)\")\n",
    "\n",
    "# Mostramos el boxplot\n",
    "plt.show()\n",
    "\n",
    "# Referencia\n",
    "# https://matplotlib.org/3.1.1/api/_as_gen/matplotlib.pyplot.boxplot.html\n",
    "# https://matplotlib.org/stable/api/_as_gen/matplotlib.pyplot.grid.html\n",
    "# https://matplotlib.org/stable/gallery/statistics/boxplot_color.html"
   ]
  },
  {
   "cell_type": "markdown",
   "metadata": {},
   "source": [
    "Como se puede ver en la imágen anterior, el boxplot (la caja) nos indica el cuartil 1, el cuartil 3 y con una línea de color la mediana. Adicionalmente se puede ver el valor 70 el cual es calificado como un \"outlier\"."
   ]
  },
  {
   "cell_type": "markdown",
   "metadata": {},
   "source": [
    "**7. Como es una gráfica quantile-quantile diferente de una quantil**"
   ]
  },
  {
   "cell_type": "code",
   "execution_count": 8,
   "metadata": {},
   "outputs": [
    {
     "data": {
      "image/png": "[encoded data removed]",
      "text/plain": [
       "<Figure size 432x288 with 1 Axes>"
      ]
     },
     "metadata": {
      "needs_background": "light"
     },
     "output_type": "display_data"
    }
   ],
   "source": [
    "#Generamos la gráfica quantile-quantile\n",
    "import statsmodels.api as sm\n",
    "\n",
    "data = np.array(age)\n",
    "sm.qqplot(data)#, line ='45')\n",
    "plt.grid(True, color='r')\n",
    "plt.show()\n",
    "\n",
    "# Referencias:\n",
    "# https://www.geeksforgeeks.org/qqplot-quantile-quantile-plot-in-python/"
   ]
  },
  {
   "cell_type": "markdown",
   "metadata": {},
   "source": [
    "Como se puede apreciar de la gráfica anterior, la gráfica cuantil-cuantil es diferente ya que esta sirve para tratar de determinar si los datos se ajustan a algún tipo de distribución teórica como la normal o exponencial.\n",
    "\n",
    "Referencia:<BR>\n",
    "Understanding qqplots, https://data.library.virginia.edu/understanding-q-q-plots/"
   ]
  },
  {
   "cell_type": "markdown",
   "metadata": {},
   "source": [
    "### Problema 2"
   ]
  },
  {
   "cell_type": "markdown",
   "metadata": {},
   "source": [
    "**a. Normalización min-max fijando el mínimo en 0 y el máximo en 1**"
   ]
  },
  {
   "cell_type": "code",
   "execution_count": 9,
   "metadata": {},
   "outputs": [
    {
     "name": "stdout",
     "output_type": "stream",
     "text": [
      "A continuación los datos ya normalizados: \n",
      " [0.    0.125 0.25  0.5   1.   ]\n"
     ]
    }
   ],
   "source": [
    "#Importamos la función MinMax del paquete sklearn\n",
    "from sklearn.preprocessing import MinMaxScaler\n",
    "\n",
    "#Definimos los datos que usaremos\n",
    "normdata =  np.array([200,300,400,600,1000])\n",
    "#necesitamos hacer un \"reshape\" del arreglo para que lo pueda tomar la función\n",
    "normdata = normdata.reshape(-1,1) \n",
    "\n",
    "#A continuación usamos la función MinMaxScaler de la librería sklearn\n",
    "scaler = MinMaxScaler()\n",
    "scaler.fit(normdata)\n",
    "minmaxnormdata = scaler.transform(normdata)\n",
    "\n",
    "minmaxnormdata = minmaxnormdata.flatten()\n",
    "\n",
    "print(\"A continuación los datos ya normalizados: \\n\", minmaxnormdata)\n",
    "\n",
    "# Normalization, https://www.codecademy.com/articles/normalization\n",
    "# Referencia: https://scikit-learn.org/stable/modules/generated/sklearn.preprocessing.MinMaxScaler.html"
   ]
  },
  {
   "cell_type": "markdown",
   "metadata": {},
   "source": [
    "**b. Normalización Z-Score**"
   ]
  },
  {
   "cell_type": "code",
   "execution_count": 10,
   "metadata": {},
   "outputs": [
    {
     "name": "stdout",
     "output_type": "stream",
     "text": [
      "A continuación los datos normalizados con Z-Score: \n",
      " [-1.06066017 -0.70710678 -0.35355339  0.35355339  1.76776695]\n"
     ]
    }
   ],
   "source": [
    "#Generamos la normalización Z-SCORE utilizando el paquete stats de scipy\n",
    "from scipy import stats\n",
    "zscorenormdata = stats.zscore(normdata).flatten()\n",
    "\n",
    "print(\"A continuación los datos normalizados con Z-Score: \\n\",zscorenormdata)\n",
    "\n",
    "#Referencia: https://docs.scipy.org/doc/scipy/reference/generated/scipy.stats.zscore.html"
   ]
  },
  {
   "cell_type": "code",
   "execution_count": 11,
   "metadata": {},
   "outputs": [
    {
     "name": "stdout",
     "output_type": "stream",
     "text": [
      "A continuación los datos normalizados con Z-Score: \n",
      " [-1.06066017 -0.70710678 -0.35355339  0.35355339  1.76776695]\n"
     ]
    }
   ],
   "source": [
    "#### OPCION USANDO SCIKIT LEARN PARA Z-SCORE\n",
    "#Importamos la función que ejecuta el método Z-SCORE\n",
    "from sklearn.preprocessing import StandardScaler\n",
    "\n",
    "#Preparamos la data y ejecutamos la función Z-SCORE\n",
    "normdata = normdata.reshape(-1,1)\n",
    "scaler = StandardScaler()\n",
    "scaler.fit(normdata)\n",
    "zscorenormdata = scaler.transform(normdata)\n",
    "zscorenormdata = zscorenormdata.flatten()\n",
    "print(\"A continuación los datos normalizados con Z-Score: \\n\",zscorenormdata)\n",
    "\n",
    "#Referencia\n",
    "#https://scikit-learn.org/stable/modules/generated/sklearn.preprocessing.StandardScaler.html\n",
    "#https://towardsdatascience.com/data-normalization-with-pandas-and-scikit-learn-7c1cc6ed6475"
   ]
  },
  {
   "cell_type": "markdown",
   "metadata": {},
   "source": [
    "### Problema 3"
   ]
  },
  {
   "cell_type": "markdown",
   "metadata": {},
   "source": [
    "**a. Particionamiento por equi-frecuencia (igual profundidad)**"
   ]
  },
  {
   "cell_type": "code",
   "execution_count": 12,
   "metadata": {},
   "outputs": [],
   "source": [
    "data = np.array([5, 10, 11, 13, 15, 35, 50, 55, 72, 92, 204, 215])"
   ]
  },
  {
   "cell_type": "code",
   "execution_count": 13,
   "metadata": {},
   "outputs": [
    {
     "data": {
      "image/png": "[encoded data removed]",
      "text/plain": [
       "<Figure size 432x288 with 1 Axes>"
      ]
     },
     "metadata": {
      "needs_background": "light"
     },
     "output_type": "display_data"
    },
    {
     "data": {
      "text/plain": [
       "(array([  5.,  15.,  72., 215.]), array([4., 4., 4.]))"
      ]
     },
     "execution_count": 13,
     "metadata": {},
     "output_type": "execute_result"
    }
   ],
   "source": [
    "#Función para calcular los bins con \"equal-frequency\"\n",
    "def equalObs(x, nbin):\n",
    "    nlen = len(x)\n",
    "    return np.interp(np.linspace(0, nlen, nbin + 1),\n",
    "                     np.arange(nlen), np.sort(x))\n",
    "#Creamos histogramas con \"equal-frequency bins\" \n",
    "n, bins, patches = plt.hist(data, equalObs(data, 3), edgecolor='black')\n",
    "plt.show()\n",
    "#Mostrar las fronteras y la frecuencia por \"bin\" \n",
    "bins, n\n",
    "\n",
    "#Referencia: https://www.statology.org/equal-frequency-binning-python/"
   ]
  },
  {
   "cell_type": "markdown",
   "metadata": {},
   "source": [
    "**b. Particionamiento por \"equal-width\"**"
   ]
  },
  {
   "cell_type": "code",
   "execution_count": 14,
   "metadata": {},
   "outputs": [
    {
     "data": {
      "image/png": "[encoded data removed]",
      "text/plain": [
       "<Figure size 432x288 with 1 Axes>"
      ]
     },
     "metadata": {
      "needs_background": "light"
     },
     "output_type": "display_data"
    },
    {
     "name": "stdout",
     "output_type": "stream",
     "text": [
      "Los bins quedan como sigue:  [  5.  75. 145. 215.]\n",
      "Los elementos por bin son:  [9. 1. 2.]\n"
     ]
    }
   ],
   "source": [
    "#Una forma de crear este particionamiento con python es\n",
    "#crear un histograma, ya que utiliza el algoritmo equal-width\n",
    "n, bins, patches = plt.hist(data, bins=3, edgecolor='black')\n",
    "plt.show()\n",
    "\n",
    "#display bin boundaries and frequency per bin \n",
    "print(\"Los bins quedan como sigue: \", bins)\n",
    "print(\"Los elementos por bin son: \", n)"
   ]
  },
  {
   "cell_type": "markdown",
   "metadata": {},
   "source": [
    "**c. Particionamiento por \"clustering\"**"
   ]
  },
  {
   "cell_type": "code",
   "execution_count": 15,
   "metadata": {},
   "outputs": [
    {
     "name": "stdout",
     "output_type": "stream",
     "text": [
      "[  5  10  11  13  15  35  50  55  72  92 204 215]\n",
      "[0, 0, 0, 0, 0, 0, 1, 1, 1, 1, 2, 2]\n"
     ]
    }
   ],
   "source": [
    "#En este caso como se trata de datos unidimensionales usamos kmeans1d\n",
    "import kmeans1d\n",
    "\n",
    "#Generamos los clusters indicando cuantos deseamos y los datos\n",
    "clusters, centroids = kmeans1d.cluster(data, 3)\n",
    "\n",
    "print(data)\n",
    "print(clusters)\n",
    "#print(centroids) #Opcional por si queremos saber cuales fueron los centroides que se utilizaron\n",
    "\n",
    "#Referencia: https://pypi.org/project/kmeans1d/"
   ]
  },
  {
   "cell_type": "markdown",
   "metadata": {},
   "source": [
    "Como se puede apreciar, al indicar que queremos 3 clusters, se generan los cluster 0, 1 y 2 respectivamente, si mapeamos los datos con los clusters tenemos los elementos de cada cluster como sigue:<BR>\n",
    "0: 5,10,11,13,15,35<BR>\n",
    "1: 50,55,72,92<BR>\n",
    "2: 204,215"
   ]
  },
  {
   "cell_type": "markdown",
   "metadata": {},
   "source": [
    "### Problema 4"
   ]
  },
  {
   "cell_type": "markdown",
   "metadata": {},
   "source": [
    "**a. Considere los datos como puntos de dos dimensiones. Dado un nuevo punto (1.4, 1.6) como query, de un rango a los puntos de la base de datos basado en la similaridad con el query usando (1)la distancia euclideana y (2) la similaridad coseno.**"
   ]
  },
  {
   "cell_type": "code",
   "execution_count": 16,
   "metadata": {},
   "outputs": [],
   "source": [
    "#Definimos el arreglo de datos\n",
    "data = np.array(([1.5,1.7],[2,1.9],[1.6,1.8],[1.2,1.5],[1.5,1.0]))"
   ]
  },
  {
   "cell_type": "code",
   "execution_count": 17,
   "metadata": {},
   "outputs": [
    {
     "data": {
      "image/png": "[encoded data removed]",
      "text/plain": [
       "<Figure size 432x288 with 1 Axes>"
      ]
     },
     "metadata": {
      "needs_background": "light"
     },
     "output_type": "display_data"
    }
   ],
   "source": [
    "#Esto no es necesario pero nos permite visualizar los punto\n",
    "plt.scatter(data[:,0], data[:,1])\n",
    "plt.scatter(1.4,1.6) #Graficamos el punto del que vamos a calcular la distancia\n",
    "plt.grid(True)\n",
    "plt.show()"
   ]
  },
  {
   "cell_type": "code",
   "execution_count": 18,
   "metadata": {},
   "outputs": [
    {
     "name": "stdout",
     "output_type": "stream",
     "text": [
      "La distancia al punto [1.5 1.7] es 0.1414\n",
      "La distancia al punto [2.  1.9] es 0.6708\n",
      "La distancia al punto [1.6 1.8] es 0.2828\n",
      "La distancia al punto [1.2 1.5] es 0.2236\n",
      "La distancia al punto [1.5 1. ] es 0.6083\n"
     ]
    }
   ],
   "source": [
    "#Calculando la distancia euclídea\n",
    "query = [1.4,1.6]\n",
    "j=0\n",
    "for i in data:\n",
    "    dist = np.linalg.norm(i-query)\n",
    "    print(\"La distancia al punto\", i, \"es %.4f\" %dist)\n",
    "    j+=1\n",
    "#Referencia:\n",
    "#https://stackoverflow.com/questions/1401712/how-can-the-euclidean-distance-be-calculated-with-numpy"
   ]
  },
  {
   "cell_type": "code",
   "execution_count": 19,
   "metadata": {},
   "outputs": [
    {
     "name": "stdout",
     "output_type": "stream",
     "text": [
      "La similaridad coseno para el punto [1.5 1.7] es: 0.9999912\n",
      "La similaridad coseno para el punto [2.  1.9] es: 0.9957522\n",
      "La similaridad coseno para el punto [1.6 1.8] es: 0.9999692\n",
      "La similaridad coseno para el punto [1.2 1.5] es: 0.9990282\n",
      "La similaridad coseno para el punto [1.5 1. ] es: 0.9653632\n"
     ]
    }
   ],
   "source": [
    "#Calculando la distancia coseno\n",
    "from sklearn.metrics.pairwise import cosine_similarity\n",
    "query = np.array(query).reshape(1,-1)\n",
    "for i in data:\n",
    "    a = i.reshape(1,-1)\n",
    "    print(\"La similaridad coseno para el punto\", i, \"es: %.6f2\" %cosine_similarity(a, query))\n",
    "\n",
    "#Referencia: https://medium.datadriveninvestor.com/cosine-similarity-cosine-distance-6571387f9bf8\n",
    "#https://stackoverflow.com/questions/18424228/cosine-similarity-between-2-number-lists"
   ]
  },
  {
   "cell_type": "markdown",
   "metadata": {},
   "source": [
    "**b. Normalice el conjunto de datos para hacer que la norma de cada punto sea igual a 1. Use la distancia euclidea para otorgar un rango a los puntos de datos.**"
   ]
  },
  {
   "cell_type": "code",
   "execution_count": 20,
   "metadata": {},
   "outputs": [
    {
     "name": "stdout",
     "output_type": "stream",
     "text": [
      "El query normalizado queda como sigue:  [0.658504, 0.752576]\n"
     ]
    }
   ],
   "source": [
    "#Normalizando los datos utilizando la definición de norma\n",
    "import math\n",
    "\n",
    "#Obtenemos la normalización del query(1.4,1.6)\n",
    "norma = round(math.sqrt((1.4)**2+(1.6)**2),5)\n",
    "query = [round(1.4/norma,6), round(1.6/norma,6)]\n",
    "\n",
    "print(\"El query normalizado queda como sigue: \", query)"
   ]
  },
  {
   "cell_type": "code",
   "execution_count": 21,
   "metadata": {},
   "outputs": [
    {
     "name": "stdout",
     "output_type": "stream",
     "text": [
      "Los datos normalizados quedan como sigue:\n",
      "\n"
     ]
    },
    {
     "data": {
      "text/html": [
       "<div>\n",
       "<style scoped>\n",
       "    .dataframe tbody tr th:only-of-type {\n",
       "        vertical-align: middle;\n",
       "    }\n",
       "\n",
       "    .dataframe tbody tr th {\n",
       "        vertical-align: top;\n",
       "    }\n",
       "\n",
       "    .dataframe thead th {\n",
       "        text-align: right;\n",
       "    }\n",
       "</style>\n",
       "<table border=\"1\" class=\"dataframe\">\n",
       "  <thead>\n",
       "    <tr style=\"text-align: right;\">\n",
       "      <th></th>\n",
       "      <th>A1</th>\n",
       "      <th>A2</th>\n",
       "    </tr>\n",
       "  </thead>\n",
       "  <tbody>\n",
       "    <tr>\n",
       "      <th>1</th>\n",
       "      <td>0.661622</td>\n",
       "      <td>0.749838</td>\n",
       "    </tr>\n",
       "    <tr>\n",
       "      <th>2</th>\n",
       "      <td>0.724999</td>\n",
       "      <td>0.688749</td>\n",
       "    </tr>\n",
       "    <tr>\n",
       "      <th>3</th>\n",
       "      <td>0.664364</td>\n",
       "      <td>0.747409</td>\n",
       "    </tr>\n",
       "    <tr>\n",
       "      <th>4</th>\n",
       "      <td>0.624695</td>\n",
       "      <td>0.780869</td>\n",
       "    </tr>\n",
       "    <tr>\n",
       "      <th>5</th>\n",
       "      <td>0.832050</td>\n",
       "      <td>0.554700</td>\n",
       "    </tr>\n",
       "  </tbody>\n",
       "</table>\n",
       "</div>"
      ],
      "text/plain": [
       "         A1        A2\n",
       "1  0.661622  0.749838\n",
       "2  0.724999  0.688749\n",
       "3  0.664364  0.747409\n",
       "4  0.624695  0.780869\n",
       "5  0.832050  0.554700"
      ]
     },
     "execution_count": 21,
     "metadata": {},
     "output_type": "execute_result"
    }
   ],
   "source": [
    "import pandas as pd\n",
    "lista = []\n",
    "\n",
    "for i in data:\n",
    "    norma = math.sqrt(i[0]**2+i[1]**2) #Usamos la definición\n",
    "    x = round(i[0]/norma,6); y = round(i[1]/norma,6)\n",
    "    lista.append([x,y])\n",
    "\n",
    "df = pd.DataFrame (lista,columns=['A1','A2'])\n",
    "df.index += 1\n",
    "\n",
    "print(\"Los datos normalizados quedan como sigue:\\n\")\n",
    "df\n",
    "#Referencia http://mathonline.wikidot.com/the-norm-of-a-vector"
   ]
  },
  {
   "cell_type": "code",
   "execution_count": 22,
   "metadata": {},
   "outputs": [
    {
     "name": "stdout",
     "output_type": "stream",
     "text": [
      "La distancia al punto [0.661622 0.749838] es 0.00415\n",
      "La distancia al punto [0.724999 0.688749] es 0.09217\n",
      "La distancia al punto [0.664364 0.747409] es 0.00781\n",
      "La distancia al punto [0.624695 0.780869] es 0.04409\n",
      "La distancia al punto [0.83205 0.5547 ] es 0.26320\n"
     ]
    }
   ],
   "source": [
    "#Volviendo a calcular las distancias euclidianas por cada punto queda como sigue:\n",
    "#Calculando la distancia euclídea\n",
    "j=0\n",
    "for i in np.array(lista):\n",
    "    dist = np.linalg.norm(i-query)\n",
    "    print(\"La distancia al punto\", i, \"es %.5f\" %dist)\n",
    "    j+=1"
   ]
  },
  {
   "cell_type": "markdown",
   "metadata": {},
   "source": [
    "### Con base en lo obtenido, tenemos que el ranking de los puntos queda como sigue:\n",
    "X1, X3, X4, X2, X5\n",
    "Lo cual es fácilmente verificable al observar la gráfica presentada en el inciso a del Problema 4."
   ]
  }
 ],
 "metadata": {
  "kernelspec": {
   "display_name": "Python 3",
   "language": "python",
   "name": "python3"
  },
  "language_info": {
   "codemirror_mode": {
    "name": "ipython",
    "version": 3
   },
   "file_extension": ".py",
   "mimetype": "text/x-python",
   "name": "python",
   "nbconvert_exporter": "python",
   "pygments_lexer": "ipython3",
   "version": "3.7.7"
  }
 },
 "nbformat": 4,
 "nbformat_minor": 4
}
