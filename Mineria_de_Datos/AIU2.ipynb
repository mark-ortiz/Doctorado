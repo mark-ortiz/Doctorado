{
 "cells": [
  {
   "cell_type": "markdown",
   "metadata": {},
   "source": [
    "# ACTIVIDAD INTEGRADORA UNIDAD 2\n",
    "## Unidad 2: Procesamiento de Datos\n",
    "\n",
    "**Programa:** Doctorado en Sistemas Computacionales<br>\n",
    "**Alumno:** Marco Antonio Ortiz Meneses, Matrícula: A0137382049<BR>\n",
    "**Profesor:** Dr. Jorge Rafael Gutiérrez Pulido<BR>\n",
    "**Fecha:** 24 de Abril de 2021"
   ]
  },
  {
   "cell_type": "markdown",
   "metadata": {},
   "source": [
    "### Problema 1"
   ]
  },
  {
   "cell_type": "markdown",
   "metadata": {},
   "source": [
    "1. Media y Mediana de los datos"
   ]
  },
  {
   "cell_type": "code",
   "execution_count": 142,
   "metadata": {},
   "outputs": [
    {
     "name": "stdout",
     "output_type": "stream",
     "text": [
      "La media es: 29.96\n",
      "La mediana es: 25.00\n"
     ]
    }
   ],
   "source": [
    "#Calculo de la media (mean) y de la mediana (median)\n",
    "import numpy as np #Importamos la librería numpy\n",
    "\n",
    "#Definimos el vector de acuerdo a los datos otorgados\n",
    "age = [13, 15, 16, 16, 19, 20, 20, 21, 22, 22, 25, 25, 25, 25, 30, 33, 33, 35, 35, 35, 35, 36, 40, 45, 46, 52, 70]\n",
    "\n",
    "#Imprimimos lo solicitado utilizando funciones de la librería numpy\n",
    "media = np.mean(age); mediana = np.median(age)\n",
    "print(\"La media es: %.2f\" %media) # Con solo dos decimales de precisión\n",
    "print(\"La mediana es: %.2f\" %mediana)"
   ]
  },
  {
   "cell_type": "markdown",
   "metadata": {},
   "source": [
    "2. Moda y modalidad"
   ]
  },
  {
   "cell_type": "code",
   "execution_count": 97,
   "metadata": {},
   "outputs": [
    {
     "name": "stdout",
     "output_type": "stream",
     "text": [
      "El valor de la moda es: 25 \n",
      "El numero de veces que aparece el valor de la moda en el arreglo es: 4\n"
     ]
    }
   ],
   "source": [
    "from scipy import stats\n",
    "\n",
    "moda = stats.mode(age)[0]\n",
    "\n",
    "print(\"El valor de la moda es: %i \" % moda)#stats.mode(age)[0]) #Dado que solo son enteros se usa %i\n",
    "\n",
    "print(\"El numero de veces que aparece el valor de la moda en el arreglo es: %i\" %age.count(moda))"
   ]
  },
  {
   "cell_type": "code",
   "execution_count": 135,
   "metadata": {},
   "outputs": [
    {
     "name": "stdout",
     "output_type": "stream",
     "text": [
      "Veces que aparecen los elementos en el arreglo: \n",
      " [1, 1, 2, 2, 1, 2, 2, 1, 2, 2, 4, 4, 4, 4, 1, 2, 2, 4, 4, 4, 4, 1, 1, 1, 1, 1, 1]\n",
      "Como se puede observar tenemos dos elementos que aparecen 4 veces\n",
      "\n",
      "Es decir, el valor 35 también aparece 4 veces por lo que se puede decir que el conjunto de datos es bimodal\n"
     ]
    }
   ],
   "source": [
    "#Revisando cuantos veces aparece cada elmento del arreglo (lista en Python en este caso)\n",
    "#Cuenta numero de veces que aparece un elemento\n",
    "lista = []\n",
    "for i in age:\n",
    "    lista.append(age.count(i))   \n",
    "print(\"Veces que aparecen los elementos en el arreglo: \\n\", lista)\n",
    "#sorted(lista) # Con esto podemos ordenarlo si lo deseamos\n",
    "print(\"Como se puede observar tenemos dos elementos que aparecen 4 veces\\n\")\n",
    "print(\"Es decir, el valor 35 también aparece 4 veces por lo que se puede decir que el conjunto de datos es bimodal\")"
   ]
  },
  {
   "cell_type": "markdown",
   "metadata": {},
   "source": [
    "3. \"Midrange\" de los datos"
   ]
  },
  {
   "cell_type": "code",
   "execution_count": 136,
   "metadata": {},
   "outputs": [
    {
     "name": "stdout",
     "output_type": "stream",
     "text": [
      "El valor -midrange- es:  41.5\n"
     ]
    }
   ],
   "source": [
    "#Calculando el \"midrange\" que es el promedio del valor más alto y el más bajo\n",
    "max = np.max(age)\n",
    "min = np.min(age)\n",
    "midrange = (max+min)/2\n",
    "print(\"El valor -midrange- es: \", midrange)"
   ]
  },
  {
   "cell_type": "markdown",
   "metadata": {},
   "source": [
    "4. Primer quartil q1 y tercer cuartil q3"
   ]
  },
  {
   "cell_type": "code",
   "execution_count": 132,
   "metadata": {},
   "outputs": [
    {
     "name": "stdout",
     "output_type": "stream",
     "text": [
      "El valor del 1er cuartil es: 20.5\n",
      "El valor del 3er cuartil es: 35.0\n"
     ]
    }
   ],
   "source": [
    "#Utilizamos funciones de numpy para encontrar estos valores solicitados\n",
    "q1 = np.percentile(age,25)\n",
    "q3 = np.percentile(age,75)\n",
    "print(\"El valor del 1er cuartil es:\", q1)\n",
    "print(\"El valor del 3er cuartil es:\", q3)"
   ]
  },
  {
   "cell_type": "markdown",
   "metadata": {},
   "source": [
    "5. Resumen de los primeros 5 numeros acerca de los datos"
   ]
  },
  {
   "cell_type": "code",
   "execution_count": 151,
   "metadata": {},
   "outputs": [
    {
     "name": "stdout",
     "output_type": "stream",
     "text": [
      "[29.962962962962962, 25.0, 25, 20.5, 35.0]\n"
     ]
    }
   ],
   "source": [
    "#summary = {1: media}\n",
    "s1 = [media, mediana, moda[0], q1, q3]\n",
    "print (s1)"
   ]
  },
  {
   "cell_type": "markdown",
   "metadata": {},
   "source": [
    "6. Mostrar una gráfica boxplot de los datos"
   ]
  },
  {
   "cell_type": "code",
   "execution_count": 150,
   "metadata": {},
   "outputs": [
    {
     "data": {
      "image/png": "[encoded data removed]",
      "text/plain": [
       "<Figure size 432x288 with 1 Axes>"
      ]
     },
     "metadata": {
      "needs_background": "light"
     },
     "output_type": "display_data"
    }
   ],
   "source": [
    "import matplotlib.pyplot as plt\n",
    "\n",
    "#fig = plt.figure(figsize =(10, 7))\n",
    "# Generamos el boxplot\n",
    "plt.boxplot(age)\n",
    "# Mostramos el boxplot\n",
    "plt.show()"
   ]
  },
  {
   "cell_type": "code",
   "execution_count": null,
   "metadata": {},
   "outputs": [],
   "source": []
  },
  {
   "cell_type": "code",
   "execution_count": null,
   "metadata": {},
   "outputs": [],
   "source": []
  }
 ],
 "metadata": {
  "kernelspec": {
   "display_name": "Python 3",
   "language": "python",
   "name": "python3"
  },
  "language_info": {
   "codemirror_mode": {
    "name": "ipython",
    "version": 3
   },
   "file_extension": ".py",
   "mimetype": "text/x-python",
   "name": "python",
   "nbconvert_exporter": "python",
   "pygments_lexer": "ipython3",
   "version": "3.7.7"
  }
 },
 "nbformat": 4,
 "nbformat_minor": 4
}
